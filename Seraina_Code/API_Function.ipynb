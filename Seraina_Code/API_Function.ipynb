{
 "cells": [
  {
   "cell_type": "code",
   "id": "initial_id",
   "metadata": {
    "collapsed": true,
    "ExecuteTime": {
     "end_time": "2025-03-28T13:45:46.227768Z",
     "start_time": "2025-03-28T13:45:45.707344Z"
    }
   },
   "source": [
    "import requests\n",
    "import pandas as pd\n",
    "from tabulate import tabulate\n",
    "\n",
    "def get_random_cocktail():\n",
    "    url = \"https://www.thecocktaildb.com/api/json/v1/1/random.php\"\n",
    "    response = requests.get(url)\n",
    "\n",
    "    if response.status_code != 200:\n",
    "        print(\"Failed to fetch cocktail.\")\n",
    "        return\n",
    "\n",
    "    data = response.json()[\"drinks\"][0]\n",
    "\n",
    "    # Extract main info\n",
    "    cocktail_info = {\n",
    "        \"Name\": data[\"strDrink\"],\n",
    "        \"Category\": data[\"strCategory\"],\n",
    "        \"Glass\": data[\"strGlass\"],\n",
    "        \"Alcoholic\": data[\"strAlcoholic\"],\n",
    "        \"Instructions\": data[\"strInstructions\"],\n",
    "        \"Image URL\": data[\"strDrinkThumb\"]\n",
    "    }\n",
    "\n",
    "    # Ingredients and measures (as vertical list)\n",
    "    ingredients = []\n",
    "    for i in range(1, 16):\n",
    "        ingredient = data.get(f\"strIngredient{i}\")\n",
    "        measure = data.get(f\"strMeasure{i}\")\n",
    "        if ingredient:\n",
    "            ingredient = ingredient.strip()\n",
    "            if measure:\n",
    "                ingredients.append(f\"{measure.strip()} {ingredient}\")\n",
    "            else:\n",
    "                ingredients.append(ingredient)\n",
    "    cocktail_info[\"Ingredients\"] = \"\\n\".join(ingredients)  # newlines!\n",
    "\n",
    "    # Create DataFrame\n",
    "    df = pd.DataFrame([cocktail_info])\n",
    "\n",
    "    # Print as a pretty table\n",
    "    print(tabulate(df, headers='keys', tablefmt='grid', showindex=False))\n",
    "\n",
    "# Run it\n",
    "get_random_cocktail()\n"
   ],
   "outputs": [
    {
     "name": "stdout",
     "output_type": "stream",
     "text": [
      "+---------------+------------+------------+-------------+---------------------------------------------------------------------------------+-----------------------------------------------------------------------+-----------------------------------+\n",
      "| Name          | Category   | Glass      | Alcoholic   | Instructions                                                                    | Image URL                                                             | Ingredients                       |\n",
      "+===============+============+============+=============+=================================================================================+=======================================================================+===================================+\n",
      "| Bruised Heart | Shot       | Shot glass | Alcoholic   | Pour all ingredients in a mixing tin over ice, stir, and strain into shot glass | https://www.thecocktaildb.com/images/media/drink/7if5kq1503564209.jpg | 1/2 oz Vodka                      |\n",
      "|               |            |            |             |                                                                                 |                                                                       | 1/2 oz Chambord raspberry liqueur |\n",
      "|               |            |            |             |                                                                                 |                                                                       | 1/2 oz Peachtree schnapps         |\n",
      "|               |            |            |             |                                                                                 |                                                                       | 1/2 oz Cranberry juice            |\n",
      "+---------------+------------+------------+-------------+---------------------------------------------------------------------------------+-----------------------------------------------------------------------+-----------------------------------+\n"
     ]
    }
   ],
   "execution_count": 1
  },
  {
   "metadata": {},
   "cell_type": "code",
   "outputs": [],
   "execution_count": null,
   "source": "",
   "id": "d5cc94eb1d571fcc"
  }
 ],
 "metadata": {
  "kernelspec": {
   "display_name": "Python 3",
   "language": "python",
   "name": "python3"
  },
  "language_info": {
   "codemirror_mode": {
    "name": "ipython",
    "version": 2
   },
   "file_extension": ".py",
   "mimetype": "text/x-python",
   "name": "python",
   "nbconvert_exporter": "python",
   "pygments_lexer": "ipython2",
   "version": "2.7.6"
  }
 },
 "nbformat": 4,
 "nbformat_minor": 5
}
