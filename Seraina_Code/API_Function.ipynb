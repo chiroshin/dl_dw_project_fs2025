{
 "cells": [
  {
   "cell_type": "code",
   "id": "initial_id",
   "metadata": {
    "collapsed": true,
    "ExecuteTime": {
     "end_time": "2025-03-29T09:12:37.356867Z",
     "start_time": "2025-03-29T09:12:37.140934Z"
    }
   },
   "source": [
    "import requests\n",
    "import pandas as pd\n",
    "from tabulate import tabulate\n",
    "\n",
    "def get_random_cocktail():\n",
    "    url = \"https://www.thecocktaildb.com/api/json/v1/1/random.php\"\n",
    "    response = requests.get(url)\n",
    "\n",
    "    if response.status_code != 200:\n",
    "        print(\"Failed to fetch cocktail.\")\n",
    "        return\n",
    "\n",
    "    data = response.json()[\"drinks\"][0]\n",
    "\n",
    "    # Extract main info\n",
    "    cocktail_info = {\n",
    "        \"Name\": data[\"strDrink\"],\n",
    "        \"Category\": data[\"strCategory\"],\n",
    "        \"Glass\": data[\"strGlass\"],\n",
    "        \"Alcoholic\": data[\"strAlcoholic\"],\n",
    "        \"Instructions\": data[\"strInstructions\"],\n",
    "        \"Image URL\": data[\"strDrinkThumb\"]\n",
    "    }\n",
    "\n",
    "    # Ingredients and measures (as vertical list)\n",
    "    ingredients = []\n",
    "    for i in range(1, 16):\n",
    "        ingredient = data.get(f\"strIngredient{i}\")\n",
    "        measure = data.get(f\"strMeasure{i}\")\n",
    "        if ingredient:\n",
    "            ingredient = ingredient.strip()\n",
    "            if measure:\n",
    "                ingredients.append(f\"{measure.strip()} {ingredient}\")\n",
    "            else:\n",
    "                ingredients.append(ingredient)\n",
    "    cocktail_info[\"Ingredients\"] = \"\\n\".join(ingredients)  # newlines!\n",
    "\n",
    "    # Create DataFrame\n",
    "    df = pd.DataFrame([cocktail_info])\n",
    "\n",
    "    # Print as a pretty table\n",
    "    print(tabulate(df, headers='keys', tablefmt='grid', showindex=False))\n",
    "\n",
    "# Run it\n",
    "get_random_cocktail()\n"
   ],
   "outputs": [
    {
     "name": "stdout",
     "output_type": "stream",
     "text": [
      "+------------------------------+------------+------------+---------------+----------------------------------------------------------------------------------------------------------------------------------------------------------------------------------------------------------------------------------------------------------------------------------------------------------------------------------------------------------------------------------------------------------------------------------------------------------------------------------------------------------------------------------------------+-----------------------------------------------------------------------+--------------------------------------------------+\n",
      "| Name                         | Category   | Glass      | Alcoholic     | Instructions                                                                                                                                                                                                                                                                                                                                                                                                                                                                                                                                 | Image URL                                                             | Ingredients                                      |\n",
      "+==============================+============+============+===============+==============================================================================================================================================================================================================================================================================================================================================================================================================================================================================================================================================+=======================================================================+==================================================+\n",
      "| Orange Scented Hot Chocolate | Cocoa      | Coffee mug | Non alcoholic | Combine all ingredients in heavy medium saucepan. Stir over low heat until chocolate melts. Increase heat and bring just to a boil, stirring often. Remove from heat and whisk untily frothy. Return to heat and bring to boil again. Remove from heat, whisk until frothy. Repeat heating and whisking once again. Discard orange peel. (Can be prepared 2 hours ahead. Let stand at room temperature. Before serving, bring just to boil, remove from heat and whisk until frothy.) Pour hot chocolate into coffee mugs. Makes 2 servings. | https://www.thecocktaildb.com/images/media/drink/hdzwrh1487603131.jpg | 2 cups Milk                                      |\n",
      "|                              |            |            |               |                                                                                                                                                                                                                                                                                                                                                                                                                                                                                                                                              |                                                                       | 4 oz chopped bittersweet or semi-sweet Chocolate |\n",
      "|                              |            |            |               |                                                                                                                                                                                                                                                                                                                                                                                                                                                                                                                                              |                                                                       | 3 2-inch strips Orange peel                      |\n",
      "|                              |            |            |               |                                                                                                                                                                                                                                                                                                                                                                                                                                                                                                                                              |                                                                       | 1/2 tsp instant Espresso                         |\n",
      "|                              |            |            |               |                                                                                                                                                                                                                                                                                                                                                                                                                                                                                                                                              |                                                                       | 1/8 tsp ground Nutmeg                            |\n",
      "+------------------------------+------------+------------+---------------+----------------------------------------------------------------------------------------------------------------------------------------------------------------------------------------------------------------------------------------------------------------------------------------------------------------------------------------------------------------------------------------------------------------------------------------------------------------------------------------------------------------------------------------------+-----------------------------------------------------------------------+--------------------------------------------------+\n"
     ]
    }
   ],
   "execution_count": 3
  },
  {
   "metadata": {
    "ExecuteTime": {
     "end_time": "2025-03-29T09:12:27.644603Z",
     "start_time": "2025-03-29T09:12:27.633342Z"
    }
   },
   "cell_type": "code",
   "source": "",
   "id": "d5cc94eb1d571fcc",
   "outputs": [],
   "execution_count": 1
  },
  {
   "metadata": {
    "ExecuteTime": {
     "end_time": "2025-03-29T09:12:30.054241Z",
     "start_time": "2025-03-29T09:12:30.051892Z"
    }
   },
   "cell_type": "code",
   "source": "",
   "id": "ef1c450d74ee9437",
   "outputs": [],
   "execution_count": 1
  },
  {
   "metadata": {},
   "cell_type": "code",
   "outputs": [],
   "execution_count": null,
   "source": "",
   "id": "d10fe013680d932"
  }
 ],
 "metadata": {
  "kernelspec": {
   "display_name": "Python 3",
   "language": "python",
   "name": "python3"
  },
  "language_info": {
   "codemirror_mode": {
    "name": "ipython",
    "version": 2
   },
   "file_extension": ".py",
   "mimetype": "text/x-python",
   "name": "python",
   "nbconvert_exporter": "python",
   "pygments_lexer": "ipython2",
   "version": "2.7.6"
  }
 },
 "nbformat": 4,
 "nbformat_minor": 5
}
